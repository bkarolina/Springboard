{
 "cells": [
  {
   "cell_type": "markdown",
   "metadata": {},
   "source": [
    "### Project: Capstone Project 1: Exploratory Data Analysis  \n",
    "At this point, you’ve obtained the dataset for your capstone project, cleaned, and wrangled it into a form that's ready for   analysis. It's now time to apply the inferential statistics techniques you’ve learned to explore the data.  \n",
    "  \n",
    "Based on your dataset, the questions that interest you, and the results of the visualization techniques that you used   previously, you might end up using only a few of the inferential techniques that you’ve learned. Your specific situation   determines how much time it’ll take you to complete this project. Talk to your mentor to determine the most appropriate  approach to take for your project. You may find yourself revisiting the analytical framework that you first used to develop  your proposal questions. It’s fine to refine your questions more as you get deeper into your data and find interesting patterns  and answers. Remember to stay in touch with your mentor to remain focused on the scope of your project \n",
    "  \n",
    "Think of the following questions and apply them to your dataset:  \n",
    "\n",
    "* Are there variables that are particularly significant in terms of explaining the answer to your project question?\n",
    "\n",
    "* Are there strong correlations between pairs of independent variables or between an independent and a dependent variable?\n",
    "\n",
    "* What are the most appropriate tests to use to analyse these relationships?\n",
    "  \n",
    "Submission: Write a 1-2 page report on the steps and findings of your inferential statistical analysis. Upload this report to   your GitHub and submit a link. Eventually, this report can be incorporated into your milestone report."
   ]
  },
  {
   "cell_type": "markdown",
   "metadata": {},
   "source": [
    "In our data set of SMS we have spam and ham messages. We want to find out, whether some features is more important than others in order to predict whether is spam or ham. For the sake of demonstration we will pick just one word (\"Call\").   \n",
    "  \n",
    "First, we need to foind out whether we can apply CLT: \n",
    "* Is $n \\geq 3$? Yes, we have 5572 messages in total \n",
    "* We assume that independent condition os satisfied as well  \n",
    "\n",
    "Therefore we can roll up our sleeves."
   ]
  },
  {
   "cell_type": "code",
   "execution_count": 1,
   "metadata": {},
   "outputs": [],
   "source": [
    "import pandas as pd\n",
    "import numpy as np\n",
    "import string\n",
    "import matplotlib.pyplot as plt\n",
    "\n",
    "from nltk.tokenize import TweetTokenizer\n",
    "from collections import Counter"
   ]
  },
  {
   "cell_type": "code",
   "execution_count": 2,
   "metadata": {},
   "outputs": [],
   "source": [
    "df = pd.read_csv('SMSSpamCollection.txt', sep='\\t', header=None)"
   ]
  },
  {
   "cell_type": "code",
   "execution_count": 3,
   "metadata": {},
   "outputs": [],
   "source": [
    "df.columns = ['spam', 'text']\n",
    "df['spam'] = df['spam'] == 'spam' # makes True/False nstead of \"spam\" and \"ham\"\n",
    "df['spam'] = df['spam'].astype(int)  # number values instead of boolean value"
   ]
  },
  {
   "cell_type": "code",
   "execution_count": 4,
   "metadata": {},
   "outputs": [
    {
     "data": {
      "text/html": [
       "<div>\n",
       "<style scoped>\n",
       "    .dataframe tbody tr th:only-of-type {\n",
       "        vertical-align: middle;\n",
       "    }\n",
       "\n",
       "    .dataframe tbody tr th {\n",
       "        vertical-align: top;\n",
       "    }\n",
       "\n",
       "    .dataframe thead th {\n",
       "        text-align: right;\n",
       "    }\n",
       "</style>\n",
       "<table border=\"1\" class=\"dataframe\">\n",
       "  <thead>\n",
       "    <tr style=\"text-align: right;\">\n",
       "      <th></th>\n",
       "      <th>spam</th>\n",
       "      <th>text</th>\n",
       "    </tr>\n",
       "  </thead>\n",
       "  <tbody>\n",
       "    <tr>\n",
       "      <th>0</th>\n",
       "      <td>0</td>\n",
       "      <td>Go until jurong point crazy Available only in ...</td>\n",
       "    </tr>\n",
       "    <tr>\n",
       "      <th>1</th>\n",
       "      <td>0</td>\n",
       "      <td>Ok lar Joking wif u oni</td>\n",
       "    </tr>\n",
       "    <tr>\n",
       "      <th>2</th>\n",
       "      <td>1</td>\n",
       "      <td>Free entry in 2 a wkly comp to win FA Cup fina...</td>\n",
       "    </tr>\n",
       "    <tr>\n",
       "      <th>3</th>\n",
       "      <td>0</td>\n",
       "      <td>U dun say so early hor U c already then say</td>\n",
       "    </tr>\n",
       "    <tr>\n",
       "      <th>4</th>\n",
       "      <td>0</td>\n",
       "      <td>Nah I dont think he goes to usf he lives aroun...</td>\n",
       "    </tr>\n",
       "  </tbody>\n",
       "</table>\n",
       "</div>"
      ],
      "text/plain": [
       "   spam                                               text\n",
       "0     0  Go until jurong point crazy Available only in ...\n",
       "1     0                            Ok lar Joking wif u oni\n",
       "2     1  Free entry in 2 a wkly comp to win FA Cup fina...\n",
       "3     0        U dun say so early hor U c already then say\n",
       "4     0  Nah I dont think he goes to usf he lives aroun..."
      ]
     },
     "execution_count": 4,
     "metadata": {},
     "output_type": "execute_result"
    }
   ],
   "source": [
    "# Get rid of the punctuation\n",
    "translator = str.maketrans('', '', string.punctuation)\n",
    "df.text = df.text.apply(lambda x: x.translate(translator))\n",
    "df.head()"
   ]
  },
  {
   "cell_type": "markdown",
   "metadata": {},
   "source": [
    "We will create new column which will have value 0 or 1. O indicate that the message contains word \"Call\" and 1 otherwise.\n"
   ]
  },
  {
   "cell_type": "code",
   "execution_count": 5,
   "metadata": {},
   "outputs": [
    {
     "data": {
      "text/plain": [
       "0    [Go, until, jurong, point, crazy, Available, o...\n",
       "1                       [Ok, lar, Joking, wif, u, oni]\n",
       "2    [Free, entry, in, 2, a, wkly, comp, to, win, F...\n",
       "3    [U, dun, say, so, early, hor, U, c, already, t...\n",
       "4    [Nah, I, dont, think, he, goes, to, usf, he, l...\n",
       "Name: text, dtype: object"
      ]
     },
     "execution_count": 5,
     "metadata": {},
     "output_type": "execute_result"
    }
   ],
   "source": [
    "# Use TweetTokenizer \n",
    "tknzr = TweetTokenizer()\n",
    "df['text'] = df.text.apply(tknzr.tokenize)\n",
    "df['text'].head()"
   ]
  },
  {
   "cell_type": "code",
   "execution_count": 6,
   "metadata": {},
   "outputs": [],
   "source": [
    "contains_call = []\n",
    "for i in range(len(df.text)):\n",
    "    if 'call' in df.text[i]:\n",
    "        contains_call.append(1)\n",
    "    else:\n",
    "        contains_call.append(0)    "
   ]
  },
  {
   "cell_type": "code",
   "execution_count": 7,
   "metadata": {},
   "outputs": [
    {
     "data": {
      "text/plain": [
       "5572"
      ]
     },
     "execution_count": 7,
     "metadata": {},
     "output_type": "execute_result"
    }
   ],
   "source": [
    "# to make sure that I have desired list, with the same length as DataFrame\n",
    "len(contains_call)"
   ]
  },
  {
   "cell_type": "code",
   "execution_count": 8,
   "metadata": {},
   "outputs": [],
   "source": [
    "# adding new feature 'call' to our DataFrame\n",
    "df['call'] = contains_call"
   ]
  },
  {
   "cell_type": "code",
   "execution_count": 9,
   "metadata": {},
   "outputs": [
    {
     "data": {
      "text/html": [
       "<div>\n",
       "<style scoped>\n",
       "    .dataframe tbody tr th:only-of-type {\n",
       "        vertical-align: middle;\n",
       "    }\n",
       "\n",
       "    .dataframe tbody tr th {\n",
       "        vertical-align: top;\n",
       "    }\n",
       "\n",
       "    .dataframe thead th {\n",
       "        text-align: right;\n",
       "    }\n",
       "</style>\n",
       "<table border=\"1\" class=\"dataframe\">\n",
       "  <thead>\n",
       "    <tr style=\"text-align: right;\">\n",
       "      <th></th>\n",
       "      <th>spam</th>\n",
       "      <th>text</th>\n",
       "      <th>call</th>\n",
       "    </tr>\n",
       "  </thead>\n",
       "  <tbody>\n",
       "    <tr>\n",
       "      <th>0</th>\n",
       "      <td>0</td>\n",
       "      <td>[Go, until, jurong, point, crazy, Available, o...</td>\n",
       "      <td>0</td>\n",
       "    </tr>\n",
       "    <tr>\n",
       "      <th>1</th>\n",
       "      <td>0</td>\n",
       "      <td>[Ok, lar, Joking, wif, u, oni]</td>\n",
       "      <td>0</td>\n",
       "    </tr>\n",
       "    <tr>\n",
       "      <th>2</th>\n",
       "      <td>1</td>\n",
       "      <td>[Free, entry, in, 2, a, wkly, comp, to, win, F...</td>\n",
       "      <td>0</td>\n",
       "    </tr>\n",
       "    <tr>\n",
       "      <th>3</th>\n",
       "      <td>0</td>\n",
       "      <td>[U, dun, say, so, early, hor, U, c, already, t...</td>\n",
       "      <td>0</td>\n",
       "    </tr>\n",
       "    <tr>\n",
       "      <th>4</th>\n",
       "      <td>0</td>\n",
       "      <td>[Nah, I, dont, think, he, goes, to, usf, he, l...</td>\n",
       "      <td>0</td>\n",
       "    </tr>\n",
       "  </tbody>\n",
       "</table>\n",
       "</div>"
      ],
      "text/plain": [
       "   spam                                               text  call\n",
       "0     0  [Go, until, jurong, point, crazy, Available, o...     0\n",
       "1     0                     [Ok, lar, Joking, wif, u, oni]     0\n",
       "2     1  [Free, entry, in, 2, a, wkly, comp, to, win, F...     0\n",
       "3     0  [U, dun, say, so, early, hor, U, c, already, t...     0\n",
       "4     0  [Nah, I, dont, think, he, goes, to, usf, he, l...     0"
      ]
     },
     "execution_count": 9,
     "metadata": {},
     "output_type": "execute_result"
    }
   ],
   "source": [
    "df.head()"
   ]
  },
  {
   "cell_type": "markdown",
   "metadata": {},
   "source": [
    "Now, we are prepare to do some hypothesis and test them. First, we state our hypothesis:  \n",
    "* $H_0$: $\\mu_{spam=call} = \\mu_{ham=call}$\n",
    "* $H_A$: $\\mu_{spam=call} \\neq \\mu_{ham=call}$\n",
    "\n",
    "Having $\\alpha=0.05$"
   ]
  },
  {
   "cell_type": "code",
   "execution_count": 10,
   "metadata": {},
   "outputs": [
    {
     "name": "stdout",
     "output_type": "stream",
     "text": [
      "Total word 'call': 380\n",
      "Total word 'call' in spam: 188\n",
      "Total word 'call' in ham: 192\n"
     ]
    }
   ],
   "source": [
    "spam = df[df.spam==1]\n",
    "ham = df[df.spam==0]\n",
    "print(\"Total word 'call':\", df.call.values.sum())\n",
    "print(\"Total word 'call' in spam:\", spam.call.values.sum())\n",
    "print(\"Total word 'call' in ham:\", ham.call.values.sum())"
   ]
  },
  {
   "cell_type": "code",
   "execution_count": 11,
   "metadata": {},
   "outputs": [
    {
     "data": {
      "text/plain": [
       "0    4825\n",
       "1     747\n",
       "Name: spam, dtype: int64"
      ]
     },
     "execution_count": 11,
     "metadata": {},
     "output_type": "execute_result"
    }
   ],
   "source": [
    "df.spam.value_counts()"
   ]
  },
  {
   "cell_type": "code",
   "execution_count": 13,
   "metadata": {},
   "outputs": [],
   "source": [
    "no_call = [(747-188)/747, (4825-192)/4825]\n",
    "call = [188/747, 192/4825]"
   ]
  },
  {
   "cell_type": "code",
   "execution_count": 14,
   "metadata": {},
   "outputs": [],
   "source": [
    "rates = pd.DataFrame(data=[no_call, call], index=['spam', 'ham'])"
   ]
  },
  {
   "cell_type": "code",
   "execution_count": 15,
   "metadata": {},
   "outputs": [],
   "source": [
    "rates.columns = [\"no 'call'\", \"'call'\"]"
   ]
  },
  {
   "cell_type": "code",
   "execution_count": 16,
   "metadata": {},
   "outputs": [
    {
     "data": {
      "text/html": [
       "<div>\n",
       "<style scoped>\n",
       "    .dataframe tbody tr th:only-of-type {\n",
       "        vertical-align: middle;\n",
       "    }\n",
       "\n",
       "    .dataframe tbody tr th {\n",
       "        vertical-align: top;\n",
       "    }\n",
       "\n",
       "    .dataframe thead th {\n",
       "        text-align: right;\n",
       "    }\n",
       "</style>\n",
       "<table border=\"1\" class=\"dataframe\">\n",
       "  <thead>\n",
       "    <tr style=\"text-align: right;\">\n",
       "      <th></th>\n",
       "      <th>no 'call'</th>\n",
       "      <th>'call'</th>\n",
       "    </tr>\n",
       "  </thead>\n",
       "  <tbody>\n",
       "    <tr>\n",
       "      <th>spam</th>\n",
       "      <td>0.748327</td>\n",
       "      <td>0.960207</td>\n",
       "    </tr>\n",
       "    <tr>\n",
       "      <th>ham</th>\n",
       "      <td>0.251673</td>\n",
       "      <td>0.039793</td>\n",
       "    </tr>\n",
       "  </tbody>\n",
       "</table>\n",
       "</div>"
      ],
      "text/plain": [
       "      no 'call'    'call'\n",
       "spam   0.748327  0.960207\n",
       "ham    0.251673  0.039793"
      ]
     },
     "execution_count": 16,
     "metadata": {},
     "output_type": "execute_result"
    }
   ],
   "source": [
    "rates"
   ]
  },
  {
   "cell_type": "code",
   "execution_count": 17,
   "metadata": {},
   "outputs": [
    {
     "name": "stdout",
     "output_type": "stream",
     "text": [
      "0.21188061399310543\n"
     ]
    }
   ],
   "source": [
    "p_s = spam.call.values.sum()/747\n",
    "p_h = ham.call.values.sum()/4825\n",
    "sigma_s = (p_s * (1 - p_s)) / 747\n",
    "sigma_h = (p_h * (1 - p_h)) /4825\n",
    "\n",
    "\n",
    "# difference sample\n",
    "mu = p_s - p_h\n",
    "sigma = sigma_s + sigma_h\n",
    "std_dev = np.sqrt(sigma)\n",
    "print(mu)"
   ]
  },
  {
   "cell_type": "markdown",
   "metadata": {},
   "source": [
    "Distance from $\\mu$ is $d = z * std\\_dev$ and according z-table $z=1.96$. Margin error is $2*d$.\n",
    "Keep in mind, our data is large enough, so we can use our sample proportions $\\approx$ proportions."
   ]
  },
  {
   "cell_type": "code",
   "execution_count": 18,
   "metadata": {},
   "outputs": [
    {
     "name": "stdout",
     "output_type": "stream",
     "text": [
      "Low: 0.18027417251991973\n",
      "Up: 0.24348705546629112\n"
     ]
    }
   ],
   "source": [
    "d = 1.96*std_dev\n",
    "low = mu - d\n",
    "up = mu + d\n",
    "margin_error = 2*d\n",
    "margin_error\n",
    "print(\"Low:\",  low)\n",
    "print(\"Up:\", up)"
   ]
  },
  {
   "cell_type": "markdown",
   "metadata": {},
   "source": [
    "Our $95\\%$ confidence interval is $<0.18027, 0.2435>$. And therfore we can't reject null hypothesis. This is quite expected result -- wrod 'call' is widely used in 'ham' communication as in the 'spam'. So word 'call' alone is not sufficient to decided whether message is a spam or ham."
   ]
  },
  {
   "cell_type": "code",
   "execution_count": null,
   "metadata": {},
   "outputs": [],
   "source": []
  }
 ],
 "metadata": {
  "kernelspec": {
   "display_name": "Python 3",
   "language": "python",
   "name": "python3"
  },
  "language_info": {
   "codemirror_mode": {
    "name": "ipython",
    "version": 3
   },
   "file_extension": ".py",
   "mimetype": "text/x-python",
   "name": "python",
   "nbconvert_exporter": "python",
   "pygments_lexer": "ipython3",
   "version": "3.7.1"
  }
 },
 "nbformat": 4,
 "nbformat_minor": 2
}
