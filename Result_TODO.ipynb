{
 "cells": [
  {
   "cell_type": "code",
   "execution_count": 4,
   "metadata": {
    "collapsed": true
   },
   "outputs": [],
   "source": [
    "import pandas as pd"
   ]
  },
  {
   "cell_type": "code",
   "execution_count": 5,
   "metadata": {
    "collapsed": true
   },
   "outputs": [],
   "source": [
    "models = pd.read_csv(\"model_results.csv\")"
   ]
  },
  {
   "cell_type": "code",
   "execution_count": 6,
   "metadata": {},
   "outputs": [
    {
     "data": {
      "text/html": [
       "<div>\n",
       "<style scoped>\n",
       "    .dataframe tbody tr th:only-of-type {\n",
       "        vertical-align: middle;\n",
       "    }\n",
       "\n",
       "    .dataframe tbody tr th {\n",
       "        vertical-align: top;\n",
       "    }\n",
       "\n",
       "    .dataframe thead th {\n",
       "        text-align: right;\n",
       "    }\n",
       "</style>\n",
       "<table border=\"1\" class=\"dataframe\">\n",
       "  <thead>\n",
       "    <tr style=\"text-align: right;\">\n",
       "      <th></th>\n",
       "      <th>Model</th>\n",
       "      <th>train_score</th>\n",
       "      <th>test_score</th>\n",
       "      <th>bows</th>\n",
       "      <th>other</th>\n",
       "    </tr>\n",
       "  </thead>\n",
       "  <tbody>\n",
       "    <tr>\n",
       "      <th>0</th>\n",
       "      <td>Linear Regression</td>\n",
       "      <td>0.999190</td>\n",
       "      <td>-1.28296</td>\n",
       "      <td>split_f</td>\n",
       "      <td>NaN</td>\n",
       "    </tr>\n",
       "    <tr>\n",
       "      <th>1</th>\n",
       "      <td>Ridge</td>\n",
       "      <td>0.994010</td>\n",
       "      <td>0.79800</td>\n",
       "      <td>split_f</td>\n",
       "      <td>NaN</td>\n",
       "    </tr>\n",
       "    <tr>\n",
       "      <th>2</th>\n",
       "      <td>Lasso</td>\n",
       "      <td>0.000000</td>\n",
       "      <td>-0.00200</td>\n",
       "      <td>split_f</td>\n",
       "      <td>NaN</td>\n",
       "    </tr>\n",
       "    <tr>\n",
       "      <th>3</th>\n",
       "      <td>Logistic Regression</td>\n",
       "      <td>0.997380</td>\n",
       "      <td>0.98000</td>\n",
       "      <td>split_f</td>\n",
       "      <td>NaN</td>\n",
       "    </tr>\n",
       "    <tr>\n",
       "      <th>4</th>\n",
       "      <td>Logistic Regression</td>\n",
       "      <td>0.998324</td>\n",
       "      <td>0.98500</td>\n",
       "      <td>TweetTokenize</td>\n",
       "      <td>NaN</td>\n",
       "    </tr>\n",
       "    <tr>\n",
       "      <th>5</th>\n",
       "      <td>Ridge</td>\n",
       "      <td>0.992260</td>\n",
       "      <td>0.81614</td>\n",
       "      <td>TweetTokenize</td>\n",
       "      <td>NaN</td>\n",
       "    </tr>\n",
       "    <tr>\n",
       "      <th>6</th>\n",
       "      <td>Ridge</td>\n",
       "      <td>0.992020</td>\n",
       "      <td>0.82916</td>\n",
       "      <td>TweetTokenize</td>\n",
       "      <td>no_punc</td>\n",
       "    </tr>\n",
       "    <tr>\n",
       "      <th>7</th>\n",
       "      <td>Logistic Regression</td>\n",
       "      <td>0.997580</td>\n",
       "      <td>0.98500</td>\n",
       "      <td>TweetTokenize</td>\n",
       "      <td>no_punc</td>\n",
       "    </tr>\n",
       "    <tr>\n",
       "      <th>8</th>\n",
       "      <td>Logistic Regression</td>\n",
       "      <td>0.999000</td>\n",
       "      <td>-1.43220</td>\n",
       "      <td>TDIDF</td>\n",
       "      <td>no_punc</td>\n",
       "    </tr>\n",
       "  </tbody>\n",
       "</table>\n",
       "</div>"
      ],
      "text/plain": [
       "                 Model   train_score   test_score            bows     other\n",
       "0    Linear Regression      0.999190     -1.28296         split_f       NaN\n",
       "1                Ridge      0.994010      0.79800         split_f       NaN\n",
       "2                Lasso      0.000000     -0.00200         split_f       NaN\n",
       "3  Logistic Regression      0.997380      0.98000         split_f       NaN\n",
       "4  Logistic Regression      0.998324      0.98500   TweetTokenize       NaN\n",
       "5                Ridge      0.992260      0.81614   TweetTokenize       NaN\n",
       "6                Ridge      0.992020      0.82916   TweetTokenize   no_punc\n",
       "7  Logistic Regression      0.997580      0.98500   TweetTokenize   no_punc\n",
       "8  Logistic Regression      0.999000     -1.43220           TDIDF   no_punc"
      ]
     },
     "execution_count": 6,
     "metadata": {},
     "output_type": "execute_result"
    }
   ],
   "source": [
    "models"
   ]
  },
  {
   "cell_type": "code",
   "execution_count": 20,
   "metadata": {},
   "outputs": [],
   "source": [
    "tdidf_results = pd.read_csv(\"results_TDIDF.csv\")"
   ]
  },
  {
   "cell_type": "code",
   "execution_count": 21,
   "metadata": {},
   "outputs": [
    {
     "data": {
      "text/html": [
       "<div>\n",
       "<style scoped>\n",
       "    .dataframe tbody tr th:only-of-type {\n",
       "        vertical-align: middle;\n",
       "    }\n",
       "\n",
       "    .dataframe tbody tr th {\n",
       "        vertical-align: top;\n",
       "    }\n",
       "\n",
       "    .dataframe thead th {\n",
       "        text-align: right;\n",
       "    }\n",
       "</style>\n",
       "<table border=\"1\" class=\"dataframe\">\n",
       "  <thead>\n",
       "    <tr style=\"text-align: right;\">\n",
       "      <th></th>\n",
       "      <th>Model</th>\n",
       "      <th>score train</th>\n",
       "      <th>score test</th>\n",
       "      <th>other</th>\n",
       "    </tr>\n",
       "  </thead>\n",
       "  <tbody>\n",
       "    <tr>\n",
       "      <th>0</th>\n",
       "      <td>Logistic Regression</td>\n",
       "      <td>0.999</td>\n",
       "      <td>-1.2953</td>\n",
       "      <td>NaN</td>\n",
       "    </tr>\n",
       "    <tr>\n",
       "      <th>1</th>\n",
       "      <td>Logistic Regression</td>\n",
       "      <td>0.999</td>\n",
       "      <td>-3.1321</td>\n",
       "      <td>l2</td>\n",
       "    </tr>\n",
       "    <tr>\n",
       "      <th>2</th>\n",
       "      <td>Logistic Regression</td>\n",
       "      <td>0.999</td>\n",
       "      <td>-9.9972</td>\n",
       "      <td>l1</td>\n",
       "    </tr>\n",
       "    <tr>\n",
       "      <th>3</th>\n",
       "      <td>Logistic Regression</td>\n",
       "      <td>1.000</td>\n",
       "      <td>0.8171</td>\n",
       "      <td>ngram(2)</td>\n",
       "    </tr>\n",
       "    <tr>\n",
       "      <th>4</th>\n",
       "      <td>Logistic Regression</td>\n",
       "      <td>1.000</td>\n",
       "      <td>0.7590</td>\n",
       "      <td>ngram(3)</td>\n",
       "    </tr>\n",
       "    <tr>\n",
       "      <th>5</th>\n",
       "      <td>Logistic Regression</td>\n",
       "      <td>0.180</td>\n",
       "      <td>0.1560</td>\n",
       "      <td>min_df=0.1</td>\n",
       "    </tr>\n",
       "    <tr>\n",
       "      <th>6</th>\n",
       "      <td>Logistic Regression</td>\n",
       "      <td>1.000</td>\n",
       "      <td>0.8053</td>\n",
       "      <td>max_df=0.9</td>\n",
       "    </tr>\n",
       "    <tr>\n",
       "      <th>7</th>\n",
       "      <td>Logistic Regression</td>\n",
       "      <td>1.000</td>\n",
       "      <td>0.7988</td>\n",
       "      <td>max_df=0.6</td>\n",
       "    </tr>\n",
       "    <tr>\n",
       "      <th>8</th>\n",
       "      <td>Logistic Regression</td>\n",
       "      <td>1.000</td>\n",
       "      <td>0.8197</td>\n",
       "      <td>max_df=0.75</td>\n",
       "    </tr>\n",
       "    <tr>\n",
       "      <th>9</th>\n",
       "      <td>Logistic Regression</td>\n",
       "      <td>1.000</td>\n",
       "      <td>0.7975</td>\n",
       "      <td>max_df=0.82</td>\n",
       "    </tr>\n",
       "    <tr>\n",
       "      <th>10</th>\n",
       "      <td>Logistic Regression</td>\n",
       "      <td>1.000</td>\n",
       "      <td>0.7972</td>\n",
       "      <td>max_df=0.68</td>\n",
       "    </tr>\n",
       "  </tbody>\n",
       "</table>\n",
       "</div>"
      ],
      "text/plain": [
       "                  Model   score train   score test         other\n",
       "0   Logistic Regression         0.999      -1.2953           NaN\n",
       "1   Logistic Regression         0.999      -3.1321            l2\n",
       "2   Logistic Regression         0.999      -9.9972            l1\n",
       "3   Logistic Regression         1.000       0.8171      ngram(2)\n",
       "4   Logistic Regression         1.000       0.7590      ngram(3)\n",
       "5   Logistic Regression         0.180       0.1560    min_df=0.1\n",
       "6   Logistic Regression         1.000       0.8053    max_df=0.9\n",
       "7   Logistic Regression         1.000       0.7988    max_df=0.6\n",
       "8   Logistic Regression         1.000       0.8197   max_df=0.75\n",
       "9   Logistic Regression         1.000       0.7975   max_df=0.82\n",
       "10  Logistic Regression         1.000       0.7972   max_df=0.68"
      ]
     },
     "execution_count": 21,
     "metadata": {},
     "output_type": "execute_result"
    }
   ],
   "source": [
    "tdidf_results\n",
    "# we keep ngram(1,2) and changing min/max_df"
   ]
  },
  {
   "cell_type": "code",
   "execution_count": 8,
   "metadata": {
    "collapsed": true
   },
   "outputs": [],
   "source": [
    "import nltk"
   ]
  },
  {
   "cell_type": "code",
   "execution_count": 18,
   "metadata": {
    "collapsed": true
   },
   "outputs": [],
   "source": [
    "from nltk.tokenize import casual_tokenize, TweetTokenizer"
   ]
  },
  {
   "cell_type": "code",
   "execution_count": 10,
   "metadata": {},
   "outputs": [
    {
     "name": "stdout",
     "output_type": "stream",
     "text": [
      "Help on function casual_tokenize in module nltk.tokenize.casual:\n",
      "\n",
      "casual_tokenize(text, preserve_case=True, reduce_len=False, strip_handles=False)\n",
      "    Convenience function for wrapping the tokenizer.\n",
      "\n"
     ]
    }
   ],
   "source": [
    "help(casual_tokenize)"
   ]
  },
  {
   "cell_type": "code",
   "execution_count": 20,
   "metadata": {},
   "outputs": [
    {
     "name": "stdout",
     "output_type": "stream",
     "text": [
      "Help on function __init__ in module nltk.tokenize.casual:\n",
      "\n",
      "__init__(self, preserve_case=True, reduce_len=False, strip_handles=False)\n",
      "    Initialize self.  See help(type(self)) for accurate signature.\n",
      "\n"
     ]
    }
   ],
   "source": [
    "# preserve_case -- lower/upper case preserve, False - to low case\n",
    "# reduce_len -- punctuation marks len? (more than 3 times to 3 times)\n",
    "help(TweetTokenizer.__init__)"
   ]
  },
  {
   "cell_type": "code",
   "execution_count": null,
   "metadata": {
    "collapsed": true
   },
   "outputs": [],
   "source": []
  },
  {
   "cell_type": "code",
   "execution_count": null,
   "metadata": {
    "collapsed": true
   },
   "outputs": [],
   "source": [
    "# TODO:\n",
    "# TFIDF \n",
    "# PCA\n",
    "# False/True rates\n",
    "# Precision, Recall, f1_score\n",
    "# hyperparameters"
   ]
  },
  {
   "cell_type": "code",
   "execution_count": null,
   "metadata": {
    "collapsed": true
   },
   "outputs": [],
   "source": []
  }
 ],
 "metadata": {
  "kernelspec": {
   "display_name": "Python 3",
   "language": "python",
   "name": "python3"
  },
  "language_info": {
   "codemirror_mode": {
    "name": "ipython",
    "version": 3
   },
   "file_extension": ".py",
   "mimetype": "text/x-python",
   "name": "python",
   "nbconvert_exporter": "python",
   "pygments_lexer": "ipython3",
   "version": "3.7.1"
  }
 },
 "nbformat": 4,
 "nbformat_minor": 2
}
